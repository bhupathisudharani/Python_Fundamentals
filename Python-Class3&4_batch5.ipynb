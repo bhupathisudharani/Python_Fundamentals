{
 "cells": [
  {
   "cell_type": "code",
   "execution_count": 1,
   "metadata": {
    "scrolled": true
   },
   "outputs": [
    {
     "name": "stdout",
     "output_type": "stream",
     "text": [
      "courses:\n",
      "maths\n",
      "science\n",
      "computerscience\n",
      "\n"
     ]
    }
   ],
   "source": [
    "print('courses:\\nmaths\\nscience\\ncomputerscience\\n') "
   ]
  },
  {
   "cell_type": "code",
   "execution_count": 2,
   "metadata": {},
   "outputs": [
    {
     "name": "stdout",
     "output_type": "stream",
     "text": [
      "\tpython\n"
     ]
    }
   ],
   "source": [
    "print('\\tpython') #Tab delimeter\n",
    "\n",
    "        "
   ]
  },
  {
   "cell_type": "code",
   "execution_count": 3,
   "metadata": {},
   "outputs": [
    {
     "name": "stdout",
     "output_type": "stream",
     "text": [
      "courses:\n",
      "\tmaths\n",
      "\tscience\n",
      "\tenglish\n",
      "\n"
     ]
    }
   ],
   "source": [
    "print('courses:\\n\\tmaths\\n\\tscience\\n\\tenglish\\n')"
   ]
  },
  {
   "cell_type": "code",
   "execution_count": 4,
   "metadata": {},
   "outputs": [
    {
     "data": {
      "text/plain": [
       "18"
      ]
     },
     "execution_count": 4,
     "metadata": {},
     "output_type": "execute_result"
    }
   ],
   "source": [
    "# Calculation of Numbers\n",
    "#integers\n",
    "7+11\n",
    "\n"
   ]
  },
  {
   "cell_type": "code",
   "execution_count": 5,
   "metadata": {},
   "outputs": [
    {
     "data": {
      "text/plain": [
       "59"
      ]
     },
     "execution_count": 5,
     "metadata": {},
     "output_type": "execute_result"
    }
   ],
   "source": [
    "69-5*2"
   ]
  },
  {
   "cell_type": "code",
   "execution_count": 6,
   "metadata": {},
   "outputs": [
    {
     "data": {
      "text/plain": [
       "1.6"
      ]
     },
     "execution_count": 6,
     "metadata": {},
     "output_type": "execute_result"
    }
   ],
   "source": [
    "8/5   # division always returns a floating point number"
   ]
  },
  {
   "cell_type": "code",
   "execution_count": 7,
   "metadata": {},
   "outputs": [
    {
     "data": {
      "text/plain": [
       "81"
      ]
     },
     "execution_count": 7,
     "metadata": {},
     "output_type": "execute_result"
    }
   ],
   "source": [
    "9**2 #9 squared"
   ]
  },
  {
   "cell_type": "code",
   "execution_count": 8,
   "metadata": {},
   "outputs": [
    {
     "name": "stdout",
     "output_type": "stream",
     "text": [
      "['TESLA', 'BMW', 'HONDA', 'TOYOTA', 'MAZDA']\n",
      "HONDA\n",
      "Toyota\n",
      "MAZDA\n",
      "['BUGATTI', 'BMW', 'HONDA', 'TOYOTA', 'MAZDA']\n"
     ]
    }
   ],
   "source": [
    "#List: list is an  ordered collection of items\n",
    "#Items:Item could be any python datatype(string,number,otherlist,tuple,dict)\n",
    "\n",
    "\n",
    "cars=['TESLA','BMW','HONDA','TOYOTA','MAZDA']\n",
    "print(cars)\n",
    "type(cars)\n",
    "print(cars[2])\n",
    "print(cars[3].title())\n",
    "\n",
    "#printing last element\n",
    "print(cars[-1])\n",
    "\n",
    "#replacing new the elements to the list\n",
    "cars[0]='BUGATTI'\n",
    "print(cars)\n"
   ]
  },
  {
   "cell_type": "code",
   "execution_count": 9,
   "metadata": {},
   "outputs": [
    {
     "name": "stdout",
     "output_type": "stream",
     "text": [
      "['BUGATTI', 'BMW']\n",
      "['HONDA', 'TOYOTA', 'MAZDA']\n"
     ]
    }
   ],
   "source": [
    "print(cars[0:2])\n",
    "print(cars[2:])"
   ]
  },
  {
   "cell_type": "code",
   "execution_count": 10,
   "metadata": {},
   "outputs": [
    {
     "name": "stdout",
     "output_type": "stream",
     "text": [
      "['BUGATTI', 'BMW', 'HONDA', 'TOYOTA', 'MAZDA', 'NISSAN']\n"
     ]
    }
   ],
   "source": [
    "#Adding to the List\n",
    "cars.append('NISSAN')\n",
    "print(cars)\n"
   ]
  },
  {
   "cell_type": "code",
   "execution_count": 11,
   "metadata": {},
   "outputs": [
    {
     "name": "stdout",
     "output_type": "stream",
     "text": [
      "['BUGATTI', 'BMW', 'FORD', 'HONDA', 'TOYOTA', 'MAZDA', 'NISSAN']\n"
     ]
    }
   ],
   "source": [
    "#Inserting new element\n",
    "cars.insert(2,'FORD')\n",
    "print(cars)"
   ]
  },
  {
   "cell_type": "code",
   "execution_count": 12,
   "metadata": {},
   "outputs": [
    {
     "name": "stdout",
     "output_type": "stream",
     "text": [
      "['BUGATTI', 'BMW', 'FORD', 'HONDA', 'TOYOTA', 'MAZDA']\n"
     ]
    }
   ],
   "source": [
    "#removing elements from the list\n",
    "del cars[6]\n",
    "print(cars)"
   ]
  },
  {
   "cell_type": "code",
   "execution_count": 13,
   "metadata": {},
   "outputs": [
    {
     "name": "stdout",
     "output_type": "stream",
     "text": [
      "['BUGATTI', 'BMW', 'FORD', 'HONDA', 'TOYOTA']\n"
     ]
    }
   ],
   "source": [
    "#pop()--always removes the element from the last\n",
    "cars.pop()\n",
    "print(cars)"
   ]
  },
  {
   "cell_type": "code",
   "execution_count": 14,
   "metadata": {},
   "outputs": [
    {
     "data": {
      "text/plain": [
       "5"
      ]
     },
     "execution_count": 14,
     "metadata": {},
     "output_type": "execute_result"
    }
   ],
   "source": [
    "#No.of elements in the list\n",
    "len(cars)"
   ]
  },
  {
   "cell_type": "code",
   "execution_count": 15,
   "metadata": {},
   "outputs": [
    {
     "name": "stdout",
     "output_type": "stream",
     "text": [
      "['BMW', 'BUGATTI', 'FORD', 'HONDA', 'TOYOTA']\n"
     ]
    }
   ],
   "source": [
    "cars.sort()\n",
    "print(cars)"
   ]
  },
  {
   "cell_type": "code",
   "execution_count": null,
   "metadata": {},
   "outputs": [],
   "source": []
  }
 ],
 "metadata": {
  "kernelspec": {
   "display_name": "Python 3",
   "language": "python",
   "name": "python3"
  },
  "language_info": {
   "codemirror_mode": {
    "name": "ipython",
    "version": 3
   },
   "file_extension": ".py",
   "mimetype": "text/x-python",
   "name": "python",
   "nbconvert_exporter": "python",
   "pygments_lexer": "ipython3",
   "version": "3.7.3"
  }
 },
 "nbformat": 4,
 "nbformat_minor": 2
}
